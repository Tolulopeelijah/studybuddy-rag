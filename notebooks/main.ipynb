{
 "cells": [
  {
   "cell_type": "code",
   "execution_count": 15,
   "metadata": {},
   "outputs": [
    {
     "data": {
      "text/plain": [
       "True"
      ]
     },
     "execution_count": 15,
     "metadata": {},
     "output_type": "execute_result"
    }
   ],
   "source": [
    "from langchain_huggingface import HuggingFaceEmbeddings\n",
    "from langchain_community.embeddings import HuggingFaceEmbeddings\n",
    "from langchain_groq import ChatGroq\n",
    "from langchain.prompts import PromptTemplate\n",
    "from langchain_text_splitters import RecursiveCharacterTextSplitter\n",
    "from langchain_community.document_loaders import PyPDFLoader\n",
    "import chromadb\n",
    "\n",
    "import torch\n",
    "from tqdm import tqdm\n",
    "import os\n",
    "\n",
    "from dotenv  import load_dotenv\n",
    "\n",
    "load_dotenv()\n",
    "\n",
    "\n"
   ]
  },
  {
   "cell_type": "code",
   "execution_count": 16,
   "metadata": {},
   "outputs": [],
   "source": [
    "# Initialize ChromaDB\n",
    "client = chromadb.PersistentClient(path=\"../research_db\")\n",
    "collection = client.get_or_create_collection(\n",
    "    name=\"studybuddy\",\n",
    "    metadata={\"hnsw:space\": \"cosine\"}\n",
    ")"
   ]
  },
  {
   "cell_type": "code",
   "execution_count": 17,
   "metadata": {},
   "outputs": [
    {
     "name": "stdout",
     "output_type": "stream",
     "text": [
      "Successfully loaded: CSC417pl10ch1.pdf\n",
      "Successfully loaded: CSC417pl10ch2.pdf\n",
      "Successfully loaded: CSC417pl10ch3.pdf\n",
      "Successfully loaded: CSC417pl10ch4.pdf\n",
      "\n",
      "Total documents loaded: 200\n"
     ]
    }
   ],
   "source": [
    "def load_study_files(documents_path):\n",
    "    \"\"\"Loading all the available pdf files in the data directory\"\"\"\n",
    "    \n",
    "    # List to store all documents\n",
    "    documents = []\n",
    "    \n",
    "    # Load each .txt file in the documents folder\n",
    "    for file in os.listdir(documents_path):\n",
    "        if file.endswith(\".pdf\"):\n",
    "            file_path = os.path.join(documents_path, file)\n",
    "            try:\n",
    "                loader = PyPDFLoader(file_path)\n",
    "                loaded_docs = loader.load()\n",
    "                documents.extend(loaded_docs)\n",
    "                print(f\"Successfully loaded: {file}\")\n",
    "            except Exception as e:\n",
    "                print(f\"Error loading {file}: {str(e)}\")\n",
    "    \n",
    "    print(f\"\\nTotal documents loaded: {len(documents)}\")\n",
    "    \n",
    "    # Extract content as strings and return\n",
    "    materials = []\n",
    "    for doc in documents:\n",
    "        materials.append(doc.page_content)\n",
    "    \n",
    "    return materials\n",
    "\n",
    "\n",
    "materials = load_study_files('../data/')\n"
   ]
  },
  {
   "cell_type": "code",
   "execution_count": 18,
   "metadata": {},
   "outputs": [],
   "source": [
    "def chunk_study_files(paper_content):\n",
    "    \"\"\"Break each material into searchable chunks\"\"\"\n",
    "    \n",
    "    text_splitter = RecursiveCharacterTextSplitter(\n",
    "        chunk_size=1000,          # ~200 words per chunk\n",
    "        chunk_overlap=200,        # Overlap to preserve context\n",
    "        separators=[\"\\n\\n\", \"\\n\", \". \", \" \", \"\"]\n",
    "    )\n",
    "    \n",
    "    chunks = text_splitter.split_text(paper_content)\n",
    "    \n",
    "    # Add metadata to each chunk\n",
    "    chunk_data = []\n",
    "    for i, chunk in enumerate(chunks):\n",
    "        chunk_data.append({\n",
    "            \"content\": chunk,\n",
    "            \"chunk_id\": f\"{i}\",\n",
    "        })\n",
    "    \n",
    "    return chunk_data\n"
   ]
  },
  {
   "cell_type": "code",
   "execution_count": 19,
   "metadata": {},
   "outputs": [],
   "source": [
    "def embed_documents(documents: list[str]) -> list[list[float]]:\n",
    "    \"\"\"\n",
    "    Embed documents using a model.\n",
    "    \"\"\"\n",
    "    device = (\n",
    "        \"cuda\"\n",
    "        if torch.cuda.is_available()\n",
    "        else \"mps\" if torch.backends.mps.is_available() else \"cpu\"\n",
    "    )\n",
    "    model = HuggingFaceEmbeddings(\n",
    "        model_name=\"sentence-transformers/all-MiniLM-L6-v2\",\n",
    "        model_kwargs={\"device\": device},\n",
    "    )\n",
    "\n",
    "    embeddings = model.embed_documents(documents)\n",
    "    return embeddings"
   ]
  },
  {
   "cell_type": "code",
   "execution_count": null,
   "metadata": {},
   "outputs": [
    {
     "name": "stderr",
     "output_type": "stream",
     "text": [
      "Inserting materials:  93%|█████████▎| 186/200 [14:37<01:16,  5.49s/it]"
     ]
    }
   ],
   "source": [
    "def insert_materials(collection: chromadb.Collection, study_materials: list[str]):\n",
    "    \"\"\"\n",
    "    Insert documents into a ChromaDB collection.\n",
    "    \"\"\"\n",
    "    next_id = collection.count()\n",
    "\n",
    "    for i, material in enumerate(tqdm(study_materials, desc=\"Inserting materials\")):\n",
    "        chunked_material = chunk_study_files(material)\n",
    "        embeddings = embed_documents([chunk[\"content\"] for chunk in chunked_material])\n",
    "        ids = list(range(next_id, next_id + len(chunked_material)))\n",
    "        ids = [f\"document_{id}\" for id in ids]\n",
    "        collection.add(\n",
    "            embeddings=embeddings,\n",
    "            ids=ids,\n",
    "            documents=[chunk[\"content\"] for chunk in chunked_material],\n",
    "            metadatas=[{\"chunk_id\": chunk[\"chunk_id\"]} for chunk in chunked_material]\n",
    "        )\n",
    "        next_id += len(chunked_material)\n",
    "\n",
    "\n",
    "insert_materials(collection, materials)\n"
   ]
  },
  {
   "cell_type": "code",
   "execution_count": 7,
   "metadata": {},
   "outputs": [],
   "source": [
    "def search_material_db(query, collection, embeddings, top_k=5):\n",
    "    \"\"\"Find the most relevant research chunks for a query\"\"\"\n",
    "    \n",
    "    # Convert question to vector\n",
    "    query_vector = embeddings.embed_query(query)\n",
    "    \n",
    "    # Search for similar content\n",
    "    results = collection.query(\n",
    "        query_embeddings=[query_vector],\n",
    "        n_results=top_k,\n",
    "        include=[\"documents\", \"metadatas\", \"distances\"]\n",
    "    )\n",
    "    \n",
    "    # Format results\n",
    "    relevant_chunks = []\n",
    "    for i, doc in enumerate(results[\"documents\"][0]):\n",
    "        relevant_chunks.append({\n",
    "            \"content\": doc,\n",
    "            \"title\": results[\"metadatas\"][0][i][\"title\"],\n",
    "            \"similarity\": 1 - results[\"distances\"][0][i]  # Convert distance to similarity\n",
    "        })\n",
    "    \n",
    "    return relevant_chunks"
   ]
  },
  {
   "cell_type": "code",
   "execution_count": 8,
   "metadata": {},
   "outputs": [],
   "source": [
    "def buddyassistant(topic, collection, embeddings, llm):\n",
    "    \"\"\"Generate an answer based on retrieved research\"\"\"\n",
    "    \n",
    "    # Get relevant research chunks\n",
    "    relevant_chunks = search_material_db(topic, collection, embeddings, top_k=3)\n",
    "    \n",
    "    # Build context from research\n",
    "    context = \"\\n\\n\".join([\n",
    "        f\"From {chunk['title']}:\\n{chunk['content']}\" \n",
    "        for chunk in relevant_chunks\n",
    "    ])\n",
    "    \n",
    "    # Prompt for question generation\n",
    "    question_template = PromptTemplate(\n",
    "        input_variables=[\"topic\"],\n",
    "        template=\"\"\"\n",
    "        You are an AI professional assistant helping students evaluate their knowledge gaps.\n",
    "        \n",
    "        Your task is as follows:\n",
    "        Generate 5 closed questions and 5 open questions on the topic {topic}\n",
    "\n",
    "        Ensure your response follows these rules:\n",
    "        - Each question should be approximately 70 words.\n",
    "        - Each question should target the underlying nuances of the topic.\n",
    "\n",
    "        Your goal is to provide sets of questions that serve as an evaluation benchmark.\n",
    "\n",
    "        Style guide:\n",
    "        - Return only the questions without any starting word.\n",
    "        - Use <endofquestion> as delimiter to separate questions.\n",
    "        \"\"\"\n",
    "    )\n",
    "    \n",
    "    # Prompt for answer evaluation\n",
    "    evaluating_template = PromptTemplate(\n",
    "        input_variables=[\"question\", \"answer\", \"context\"], \n",
    "        template=\"\"\"\n",
    "        Based on the following research findings, assess how accurate the answer is to the question.\n",
    "\n",
    "        Research Context:\n",
    "        {context}\n",
    "\n",
    "        Question: {question}\n",
    "\n",
    "        Answer: {answer}\n",
    "\n",
    "        Your response format:\n",
    "        - Return an accuracy score in 2 decimal places followed by knowledge gaps.\n",
    "        - Use bullet points to:\n",
    "          - Highlight brilliant points (if any)\n",
    "          - List what should have been included\n",
    "          - Point out irrelevant or incorrect parts\n",
    "          - Mention common pitfalls to avoid\n",
    "\n",
    "        Use clear language over jargon. Response should not exceed 150 words.\n",
    "        \"\"\"\n",
    "    )\n",
    "    \n",
    "    # Build chains\n",
    "    question_chain = question_template | llm\n",
    "    evaluating_chain = evaluating_template | llm\n",
    "\n",
    "    # Generate questions\n",
    "    response = question_chain.invoke({'topic': topic})\n",
    "    questions = response.content.strip().split('<endofquestion>')\n",
    "    questions = [q.strip() for q in questions if q.strip()]\n",
    "    \n",
    "    final_response = []\n",
    "    \n",
    "    for i, question in enumerate(questions, start=1):\n",
    "        print(f\"\\nQuestion {i}:\\n{question}\\n\")\n",
    "        answer = input(\"Provide your answer for the question above:\\n\")\n",
    "        evaluation = evaluating_chain.invoke({\n",
    "            'question': question,\n",
    "            'answer': answer,\n",
    "            'context': context\n",
    "        })\n",
    "        final_response.append({\n",
    "            'question': question,\n",
    "            'answer': answer,\n",
    "            'evaluation': evaluation.content.strip()\n",
    "        })\n",
    "        \n",
    "    return final_response, relevant_chunks"
   ]
  },
  {
   "cell_type": "code",
   "execution_count": 9,
   "metadata": {},
   "outputs": [
    {
     "name": "stderr",
     "output_type": "stream",
     "text": [
      "C:\\Users\\USER\\AppData\\Local\\Temp\\ipykernel_15912\\2617876172.py:2: LangChainDeprecationWarning: The class `HuggingFaceEmbeddings` was deprecated in LangChain 0.2.2 and will be removed in 1.0. An updated version of the class exists in the :class:`~langchain-huggingface package and should be used instead. To use it run `pip install -U :class:`~langchain-huggingface` and import as `from :class:`~langchain_huggingface import HuggingFaceEmbeddings``.\n",
      "  embeddings = HuggingFaceEmbeddings(model_name=\"sentence-transformers/all-MiniLM-L6-v2\")\n",
      "c:\\Users\\USER\\anaconda3\\envs\\studybuddy\\lib\\site-packages\\tqdm\\auto.py:21: TqdmWarning: IProgress not found. Please update jupyter and ipywidgets. See https://ipywidgets.readthedocs.io/en/stable/user_install.html\n",
      "  from .autonotebook import tqdm as notebook_tqdm\n"
     ]
    }
   ],
   "source": [
    "llm = ChatGroq(model=\"llama3-8b-8192\")\n",
    "embeddings = HuggingFaceEmbeddings(model_name=\"sentence-transformers/all-MiniLM-L6-v2\")\n",
    "\n",
    "\n"
   ]
  },
  {
   "cell_type": "code",
   "execution_count": 10,
   "metadata": {},
   "outputs": [
    {
     "ename": "NameError",
     "evalue": "name 'buddy_assistant' is not defined",
     "output_type": "error",
     "traceback": [
      "\u001b[1;31m---------------------------------------------------------------------------\u001b[0m",
      "\u001b[1;31mNameError\u001b[0m                                 Traceback (most recent call last)",
      "Cell \u001b[1;32mIn[10], line 1\u001b[0m\n\u001b[1;32m----> 1\u001b[0m answer, sources \u001b[38;5;241m=\u001b[39m \u001b[43mbuddy_assistant\u001b[49m(\n\u001b[0;32m      2\u001b[0m     \u001b[38;5;124m\"\u001b[39m\u001b[38;5;124mProgramming language design\u001b[39m\u001b[38;5;124m\"\u001b[39m,\n\u001b[0;32m      3\u001b[0m     collection, \n\u001b[0;32m      4\u001b[0m     embeddings, \n\u001b[0;32m      5\u001b[0m     llm\n\u001b[0;32m      6\u001b[0m )\n",
      "\u001b[1;31mNameError\u001b[0m: name 'buddy_assistant' is not defined"
     ]
    }
   ],
   "source": [
    "answer, sources = buddy_assistant(\n",
    "    \"Programming language design\",\n",
    "    collection, \n",
    "    embeddings, \n",
    "    llm\n",
    ")"
   ]
  },
  {
   "cell_type": "code",
   "execution_count": null,
   "metadata": {},
   "outputs": [
    {
     "ename": "NameError",
     "evalue": "name 'answer' is not defined",
     "output_type": "error",
     "traceback": [
      "\u001b[1;31m---------------------------------------------------------------------------\u001b[0m",
      "\u001b[1;31mNameError\u001b[0m                                 Traceback (most recent call last)",
      "Cell \u001b[1;32mIn[14], line 1\u001b[0m\n\u001b[1;32m----> 1\u001b[0m \u001b[38;5;28;01mfor\u001b[39;00m ind, each \u001b[38;5;129;01min\u001b[39;00m \u001b[38;5;28menumerate\u001b[39m(\u001b[43manswer\u001b[49m):\n\u001b[0;32m      2\u001b[0m     \u001b[38;5;28mprint\u001b[39m(\u001b[38;5;124mf\u001b[39m\u001b[38;5;124m\"\u001b[39m\u001b[38;5;124mQuestion \u001b[39m\u001b[38;5;132;01m{\u001b[39;00mind\u001b[38;5;132;01m}\u001b[39;00m\u001b[38;5;124m: \u001b[39m\u001b[38;5;132;01m{\u001b[39;00meach[\u001b[38;5;124m'\u001b[39m\u001b[38;5;124mquestion\u001b[39m\u001b[38;5;124m'\u001b[39m]\u001b[38;5;132;01m}\u001b[39;00m\u001b[38;5;124m\"\u001b[39m)\n\u001b[0;32m      3\u001b[0m     \u001b[38;5;28mprint\u001b[39m(\u001b[38;5;124mf\u001b[39m\u001b[38;5;124m\"\u001b[39m\u001b[38;5;124mYour answer: \u001b[39m\u001b[38;5;132;01m{\u001b[39;00meach[\u001b[38;5;124m'\u001b[39m\u001b[38;5;124manswer\u001b[39m\u001b[38;5;124m'\u001b[39m]\u001b[38;5;132;01m}\u001b[39;00m\u001b[38;5;124m\"\u001b[39m)\n",
      "\u001b[1;31mNameError\u001b[0m: name 'answer' is not defined"
     ]
    }
   ],
   "source": [
    "for ind, each in enumerate(answer):\n",
    "    print(f\"Question {ind}: {each['question']}\")\n",
    "    print(f\"Your answer: {each['answer']}\")\n",
    "    print(f\"Source: {sources[ind]}\", end = '\\n\\n')"
   ]
  },
  {
   "cell_type": "code",
   "execution_count": null,
   "metadata": {},
   "outputs": [],
   "source": []
  },
  {
   "cell_type": "code",
   "execution_count": null,
   "metadata": {},
   "outputs": [],
   "source": []
  }
 ],
 "metadata": {
  "kernelspec": {
   "display_name": "studybuddy",
   "language": "python",
   "name": "python3"
  },
  "language_info": {
   "codemirror_mode": {
    "name": "ipython",
    "version": 3
   },
   "file_extension": ".py",
   "mimetype": "text/x-python",
   "name": "python",
   "nbconvert_exporter": "python",
   "pygments_lexer": "ipython3",
   "version": "3.10.18"
  }
 },
 "nbformat": 4,
 "nbformat_minor": 2
}
